{
    "cells": [
        {
            "cell_type": "markdown",
            "metadata": {},
            "source": "![image](https://github.com/IBM/watson-machine-learning-samples/raw/master/cloud/notebooks/headers/AutoAI-Banner_Pipeline-Notebook.png)\n# Pipeline 16 Notebook - AutoAI Notebook v1.19.3\n\nConsider these tips for working with an auto-generated notebook:\n- Notebook code generated using AutoAI will execute successfully. If you modify the notebook, we cannot guarantee it will run successfully.\n- This pipeline is optimized for the original data set. The pipeline might fail or produce sub-optimal results if used with different data.  If you want to use a different data set, consider retraining the AutoAI experiment to generate a new pipeline. For more information, see <a href=\"https://dataplatform.cloud.ibm.com/docs/content/wsj/analyze-data/autoai-notebook.html\">Cloud Platform</a>. \n- Before modifying the pipeline or trying to re-fit the pipeline, consider that the code converts dataframes to numpy arrays before fitting the pipeline (a current restriction of the preprocessor pipeline).\n"
        },
        {
            "cell_type": "markdown",
            "metadata": {},
            "source": "<a id=\"content\"></a>\n## Notebook content\n\nThis notebook contains a Scikit-learn representation of AutoAI pipeline. This notebook introduces commands for retrieving data, training the model, and testing the model. \n\nSome familiarity with Python is helpful. This notebook uses Python 3.10 and scikit-learn 1.1.1."
        },
        {
            "cell_type": "markdown",
            "metadata": {
                "pycharm": {
                    "name": "#%% md\n"
                }
            },
            "source": "## Notebook goals\n\n-  Scikit-learn pipeline definition\n-  Pipeline training \n-  Pipeline evaluation\n\n## Contents\n\nThis notebook contains the following parts:\n\n**[Setup](#setup)**<br>\n&nbsp;&nbsp;[Package installation](#install)<br>\n&nbsp;&nbsp;[AutoAI experiment metadata](#variables_definition)<br>\n&nbsp;&nbsp;[Watson Machine Learning connection](#connection)<br>\n**[Pipeline inspection](#inspection)** <br>\n&nbsp;&nbsp;[Read training data](#read)<br>\n&nbsp;&nbsp;[Train and test data split](#split)<br>\n&nbsp;&nbsp;[Create pipeline](#preview_model_to_python_code)<br>\n&nbsp;&nbsp;[Train pipeline model](#train)<br>\n&nbsp;&nbsp;[Test pipeline model](#test_model)<br>\n**[Store the model](#saving)**<br>\n**[Summary and next steps](#summary_and_next_steps)**<br>\n**[Copyrights](#copyrights)**"
        },
        {
            "cell_type": "markdown",
            "metadata": {},
            "source": "<a id=\"setup\"></a>\n# Setup"
        },
        {
            "cell_type": "markdown",
            "metadata": {},
            "source": "<a id=\"install\"></a>\n## Package installation\nBefore you use the sample code in this notebook, install the following packages:\n - ibm_watson_machine_learning,\n - autoai-libs,\n - scikit-learn,\n - snapml\n"
        },
        {
            "cell_type": "code",
            "execution_count": 1,
            "metadata": {
                "execution": {
                    "iopub.execute_input": "2020-10-12T14:00:45.009458Z",
                    "iopub.status.busy": "2020-10-12T14:00:45.007968Z",
                    "iopub.status.idle": "2020-10-12T14:00:46.037702Z",
                    "shell.execute_reply": "2020-10-12T14:00:46.038270Z"
                },
                "pycharm": {
                    "name": "#%%\n"
                },
                "scrolled": true
            },
            "outputs": [
                {
                    "name": "stdout",
                    "output_type": "stream",
                    "text": "Requirement already satisfied: pyparsing!=3.0.5,>=2.0.2 in /opt/conda/envs/Python-3.10/lib/python3.10/site-packages (from packaging->ibm-watson-machine-learning) (3.0.9)\nSuccessfully installed autoai-libs-1.14.13\nRequirement already satisfied: joblib>=1.0.0 in /opt/conda/envs/Python-3.10/lib/python3.10/site-packages (from scikit-learn==1.1.1) (1.1.1)\nSuccessfully installed snapml-1.8.10\n"
                }
            ],
            "source": "!pip install ibm-watson-machine-learning | tail -n 1\n!pip install autoai-libs==1.14.13 | tail -n 1\n!pip install scikit-learn==1.1.1 | tail -n 1\n!pip install 'snapml==1.8.10' | tail -n 1"
        },
        {
            "cell_type": "markdown",
            "metadata": {},
            "source": "<a id=\"variables_definition\"></a>\n## AutoAI experiment metadata\nThe following cell contains the training data connection details.  \n**Note**: The connection might contain authorization credentials, so be careful when sharing the notebook."
        },
        {
            "cell_type": "code",
            "execution_count": 2,
            "metadata": {
                "execution": {
                    "iopub.execute_input": "2020-10-12T14:00:49.797633Z",
                    "iopub.status.busy": "2020-10-12T14:00:49.796778Z",
                    "iopub.status.idle": "2020-10-12T14:00:57.182715Z",
                    "shell.execute_reply": "2020-10-12T14:00:57.183132Z"
                },
                "pycharm": {
                    "is_executing": true
                }
            },
            "outputs": [],
            "source": "from ibm_watson_machine_learning.helpers import DataConnection\nfrom ibm_watson_machine_learning.helpers import ContainerLocation\n\ntraining_data_references = [\n    DataConnection(\n        data_asset_id='871fb5f1-c2df-4af1-b57b-c5ddd2954aad'\n    ),\n]\ntraining_result_reference = DataConnection(\n    location=ContainerLocation(\n        path='auto_ml/5b7a2299-6a64-4512-a437-439afdf06128/wml_data/1888c0e2-5d40-4ab6-bbec-a341d9f0fc8b/data/automl',\n        model_location='auto_ml/5b7a2299-6a64-4512-a437-439afdf06128/wml_data/1888c0e2-5d40-4ab6-bbec-a341d9f0fc8b/data/automl/model.zip',\n        training_status='auto_ml/5b7a2299-6a64-4512-a437-439afdf06128/wml_data/1888c0e2-5d40-4ab6-bbec-a341d9f0fc8b/training-status.json'\n    )\n)"
        },
        {
            "cell_type": "markdown",
            "metadata": {},
            "source": "The following cell contains input parameters provided to run the AutoAI experiment in Watson Studio."
        },
        {
            "cell_type": "code",
            "execution_count": 3,
            "metadata": {
                "execution": {
                    "iopub.execute_input": "2020-10-12T14:00:57.187305Z",
                    "iopub.status.busy": "2020-10-12T14:00:57.186602Z",
                    "iopub.status.idle": "2020-10-12T14:00:57.188392Z",
                    "shell.execute_reply": "2020-10-12T14:00:57.188878Z"
                },
                "pycharm": {
                    "name": "#%%\n"
                }
            },
            "outputs": [],
            "source": "experiment_metadata = dict(\n    prediction_type='binary',\n    prediction_column='label (depression result)',\n    holdout_size=0.1,\n    scoring='accuracy',\n    csv_separator=',',\n    random_state=33,\n    max_number_of_estimators=4,\n    training_data_references=training_data_references,\n    training_result_reference=training_result_reference,\n    deployment_url='https://eu-gb.ml.cloud.ibm.com',\n    project_id='47f476fa-fd0f-46f7-9e41-65d597899077',\n    positive_label=0,\n    drop_duplicates=True,\n    include_batched_ensemble_estimators=[]\n)"
        },
        {
            "cell_type": "markdown",
            "metadata": {},
            "source": "<a id=\"connection\"></a>\n## Watson Machine Learning connection\n\nThis cell defines the credentials required to work with the Watson Machine Learning service.\n\n**Action**: Provide the IBM Cloud apikey, For details, see [documentation](https://cloud.ibm.com/docs/account?topic=account-userapikey)."
        },
        {
            "cell_type": "code",
            "execution_count": 4,
            "metadata": {},
            "outputs": [],
            "source": "api_key = 'YOUR_API_KEY'"
        },
        {
            "cell_type": "code",
            "execution_count": 5,
            "metadata": {},
            "outputs": [],
            "source": "wml_credentials = {\n    \"apikey\": api_key,\n    \"url\": experiment_metadata['deployment_url']\n}"
        },
        {
            "cell_type": "code",
            "execution_count": 6,
            "metadata": {},
            "outputs": [],
            "source": "from ibm_watson_machine_learning import APIClient\n\nwml_client = APIClient(wml_credentials)\n\nif 'space_id' in experiment_metadata:\n    wml_client.set.default_space(experiment_metadata['space_id'])\nelse:\n    wml_client.set.default_project(experiment_metadata['project_id'])\n    \ntraining_data_references[0].set_client(wml_client)"
        },
        {
            "cell_type": "markdown",
            "metadata": {},
            "source": "<a id=\"inspection\"></a>\n# Pipeline inspection"
        },
        {
            "cell_type": "markdown",
            "metadata": {},
            "source": "<a id=\"read\"></a>\n## Read training data\n\nRetrieve training dataset from AutoAI experiment as pandas DataFrame.\n\n**Note**: If reading data results in an error, provide data as Pandas DataFrame object, for example, reading .CSV file with `pandas.read_csv()`. \n\nIt may be necessary to use methods for initial data pre-processing like: e.g. `DataFrame.dropna()`, `DataFrame.drop_duplicates()`, `DataFrame.sample()`.\n"
        },
        {
            "cell_type": "code",
            "execution_count": 7,
            "metadata": {
                "execution": {
                    "iopub.execute_input": "2020-10-12T14:01:16.076169Z",
                    "iopub.status.busy": "2020-10-12T14:01:16.075589Z",
                    "iopub.status.idle": "2020-10-12T14:01:19.190233Z",
                    "shell.execute_reply": "2020-10-12T14:01:19.190807Z"
                },
                "pycharm": {
                    "is_executing": true,
                    "name": "#%%\n"
                }
            },
            "outputs": [],
            "source": "train_X, test_X, train_y, test_y = training_data_references[0].read(experiment_metadata=experiment_metadata, with_holdout_split=True, use_flight=False)"
        },
        {
            "cell_type": "markdown",
            "metadata": {
                "pycharm": {
                    "name": "#%% md\n"
                }
            },
            "source": "<a id=\"preview_model_to_python_code\"></a>\n## Create pipeline\nIn the next cell, you can find the Scikit-learn definition of the selected AutoAI pipeline."
        },
        {
            "cell_type": "markdown",
            "metadata": {
                "pycharm": {
                    "name": "#%% md\n"
                }
            },
            "source": "#### Import statements."
        },
        {
            "cell_type": "code",
            "execution_count": 8,
            "metadata": {
                "pycharm": {
                    "is_executing": true,
                    "name": "#%%\n"
                }
            },
            "outputs": [],
            "source": "from autoai_libs.transformers.text_transformers import TextTransformer\nfrom autoai_libs.transformers.exportable import NumpyColumnSelector\nfrom autoai_libs.transformers.exportable import FloatStr2Float\nfrom autoai_libs.transformers.exportable import NumpyReplaceMissingValues\nfrom autoai_libs.transformers.exportable import NumImputer\nfrom autoai_libs.transformers.exportable import OptStandardScaler\nfrom autoai_libs.transformers.exportable import float32_transform\nfrom autoai_libs.cognito.transforms.transform_utils import TNoOp\nfrom snapml import SnapBoostingMachineClassifier\nfrom sklearn.pipeline import make_pipeline"
        },
        {
            "cell_type": "markdown",
            "metadata": {},
            "source": "#### Pre-processing & Estimator."
        },
        {
            "cell_type": "code",
            "execution_count": 9,
            "metadata": {
                "pycharm": {
                    "is_executing": true,
                    "name": "#%%\n"
                }
            },
            "outputs": [],
            "source": "text_transformer = TextTransformer(\n    text_processing_options={\"word2vec\": {\"output_dim\": 20}},\n    column_headers_list=[\n        \"NewTextFeature_0_word2vec(message to examine)\",\n        \"NewTextFeature_1_word2vec(message to examine)\",\n        \"NewTextFeature_2_word2vec(message to examine)\",\n        \"NewTextFeature_3_word2vec(message to examine)\",\n        \"NewTextFeature_4_word2vec(message to examine)\",\n        \"NewTextFeature_5_word2vec(message to examine)\",\n        \"NewTextFeature_6_word2vec(message to examine)\",\n        \"NewTextFeature_7_word2vec(message to examine)\",\n        \"NewTextFeature_8_word2vec(message to examine)\",\n        \"NewTextFeature_9_word2vec(message to examine)\",\n        \"NewTextFeature_10_word2vec(message to examine)\",\n        \"NewTextFeature_11_word2vec(message to examine)\",\n        \"NewTextFeature_12_word2vec(message to examine)\",\n        \"NewTextFeature_13_word2vec(message to examine)\",\n        \"NewTextFeature_14_word2vec(message to examine)\",\n        \"NewTextFeature_15_word2vec(message to examine)\",\n        \"NewTextFeature_16_word2vec(message to examine)\",\n        \"NewTextFeature_17_word2vec(message to examine)\",\n        \"NewTextFeature_18_word2vec(message to examine)\",\n        \"NewTextFeature_19_word2vec(message to examine)\",\n    ],\n    columns_to_be_deleted=[0, 1],\n    drop_columns=True,\n    text_columns=[1],\n)\nnumpy_column_selector = NumpyColumnSelector(\n    columns=[\n        0, 1, 2, 3, 4, 5, 6, 7, 8, 9, 10, 11, 12, 13, 14, 15, 16, 17, 18, 19,\n    ]\n)\nfloat_str2_float = FloatStr2Float(\n    dtypes_list=[\n        \"float_num\", \"float_num\", \"float_num\", \"float_num\", \"float_num\",\n        \"float_num\", \"float_num\", \"float_num\", \"float_num\", \"float_num\",\n        \"float_num\", \"float_num\", \"float_num\", \"float_num\", \"float_num\",\n        \"float_num\", \"float_num\", \"float_num\", \"float_num\", \"float_num\",\n    ],\n    missing_values_reference_list=[],\n)\nnumpy_replace_missing_values = NumpyReplaceMissingValues(\n    missing_values=[], filling_values=float(\"nan\")\n)\nnum_imputer = NumImputer(missing_values=float(\"nan\"), strategy=\"median\")\nopt_standard_scaler = OptStandardScaler(use_scaler_flag=False)\nt_no_op = TNoOp(\n    fun=None, name=\"no_action\", datatypes=\"x\", feat_constraints=[]\n)\nsnap_boosting_machine_classifier = SnapBoostingMachineClassifier(\n    class_weight=\"balanced\",\n    learning_rate=0.29996396686032223,\n    min_max_depth=3,\n    num_round=96,\n    random_state=33,\n)\n"
        },
        {
            "cell_type": "markdown",
            "metadata": {},
            "source": "#### Pipeline."
        },
        {
            "cell_type": "code",
            "execution_count": 10,
            "metadata": {
                "pycharm": {
                    "is_executing": true,
                    "name": "#%%\n"
                }
            },
            "outputs": [],
            "source": "pipeline = make_pipeline(\n    text_transformer,\n    numpy_column_selector,\n    float_str2_float,\n    numpy_replace_missing_values,\n    num_imputer,\n    opt_standard_scaler,\n    float32_transform(),\n    t_no_op,\n    snap_boosting_machine_classifier,\n)"
        },
        {
            "cell_type": "markdown",
            "metadata": {},
            "source": "<a id=\"train\"></a>\n## Train pipeline model\n"
        },
        {
            "cell_type": "markdown",
            "metadata": {
                "pycharm": {
                    "name": "#%% md\n"
                }
            },
            "source": "### Define scorer from the optimization metric\nThis cell constructs the cell scorer based on the experiment metadata."
        },
        {
            "cell_type": "code",
            "execution_count": 11,
            "metadata": {
                "pycharm": {
                    "is_executing": true,
                    "name": "#%%\n"
                }
            },
            "outputs": [],
            "source": "from sklearn.metrics import get_scorer\n\nscorer = get_scorer(experiment_metadata['scoring'])"
        },
        {
            "cell_type": "markdown",
            "metadata": {
                "pycharm": {
                    "name": "#%% md\n"
                }
            },
            "source": "<a id=\"test_model\"></a>\n### Fit pipeline model\nIn this cell, the pipeline is fitted."
        },
        {
            "cell_type": "code",
            "execution_count": 12,
            "metadata": {
                "execution": {
                    "iopub.execute_input": "2020-10-12T14:01:19.291734Z",
                    "iopub.status.busy": "2020-10-12T14:01:19.244735Z",
                    "iopub.status.idle": "2020-10-12T14:01:19.338461Z",
                    "shell.execute_reply": "2020-10-12T14:01:19.338958Z"
                },
                "pycharm": {
                    "is_executing": true,
                    "name": "#%%\n"
                },
                "scrolled": true
            },
            "outputs": [],
            "source": "pipeline.fit(train_X.values, train_y.values.ravel());"
        },
        {
            "cell_type": "markdown",
            "metadata": {},
            "source": "<a id=\"test_model\"></a>\n## Test pipeline model"
        },
        {
            "cell_type": "markdown",
            "metadata": {
                "pycharm": {
                    "name": "#%% md\n"
                }
            },
            "source": "Score the fitted pipeline with the generated scorer using the holdout dataset."
        },
        {
            "cell_type": "code",
            "execution_count": 13,
            "metadata": {
                "execution": {
                    "iopub.execute_input": "2020-10-12T14:02:03.910267Z",
                    "iopub.status.busy": "2020-10-12T14:02:03.909710Z",
                    "iopub.status.idle": "2020-10-12T14:02:03.914154Z",
                    "shell.execute_reply": "2020-10-12T14:02:03.914727Z"
                },
                "pycharm": {
                    "is_executing": true,
                    "name": "#%%\n"
                }
            },
            "outputs": [
                {
                    "name": "stdout",
                    "output_type": "stream",
                    "text": "0.9215116279069767\n"
                }
            ],
            "source": "score = scorer(pipeline, test_X.values, test_y.values)\nprint(score)"
        },
        {
            "cell_type": "code",
            "execution_count": 14,
            "metadata": {
                "pycharm": {
                    "name": "#%%\n"
                }
            },
            "outputs": [
                {
                    "data": {
                        "text/plain": "array([0, 0, 0, 0, 0])"
                    },
                    "execution_count": 14,
                    "metadata": {},
                    "output_type": "execute_result"
                }
            ],
            "source": "pipeline.predict(test_X.values[:5])"
        },
        {
            "cell_type": "markdown",
            "metadata": {},
            "source": "<a id=\"saving\"></a>\n## Store the model\n\nIn this section you will learn how to store the trained model."
        },
        {
            "cell_type": "code",
            "execution_count": 15,
            "metadata": {},
            "outputs": [],
            "source": "model_metadata = {\n    wml_client.repository.ModelMetaNames.NAME: 'Trained AutoAI pipeline'\n}\n\nstored_model_details = wml_client.repository.store_model(model=pipeline, meta_props=model_metadata, experiment_metadata=experiment_metadata)"
        },
        {
            "cell_type": "markdown",
            "metadata": {},
            "source": "Inspect the stored model details."
        },
        {
            "cell_type": "code",
            "execution_count": 16,
            "metadata": {},
            "outputs": [
                {
                    "data": {
                        "text/plain": "{'entity': {'hybrid_pipeline_software_specs': [],\n  'label_column': 'label (depression result)',\n  'pipeline': {'id': '28717045-5317-455a-a6ca-5ee3309920db'},\n  'schemas': {'input': [{'fields': [{'name': 'Index', 'type': 'integer'},\n      {'name': 'message to examine', 'type': 'other'}],\n     'id': '1',\n     'type': 'struct'}],\n   'output': []},\n  'software_spec': {'id': '8c1a58c6-62b5-4dc4-987a-df751c2756b6',\n   'name': 'hybrid_0.1'},\n  'training_data_references': [{'connection': {},\n    'location': {'bucket': 'projectcapstone-donotdelete-pr-jwm7hnych4lvvg',\n     'href': '/v2/assets/871fb5f1-c2df-4af1-b57b-c5ddd2954aad?project_id=47f476fa-fd0f-46f7-9e41-65d597899077',\n     'id': '871fb5f1-c2df-4af1-b57b-c5ddd2954aad',\n     'path': 'sentiment_tweets3.csv'},\n    'schema': {'fields': [{'name': 'Index', 'type': 'integer'},\n      {'name': 'message to examine', 'type': 'other'},\n      {'name': 'label (depression result)', 'type': 'integer'}],\n     'id': 'auto_ai_kb_input_schema'},\n    'type': 'data_asset'}],\n  'type': 'wml-hybrid_0.1'},\n 'metadata': {'created_at': '2023-07-11T20:22:51.698Z',\n  'id': '9b2f0e57-9dd8-442e-9c53-58f1df180960',\n  'modified_at': '2023-07-11T20:22:54.696Z',\n  'name': 'Trained AutoAI pipeline',\n  'owner': 'IBMid-664004TTWB',\n  'project_id': '47f476fa-fd0f-46f7-9e41-65d597899077',\n  'resource_key': 'a765ed09-57c2-4588-a87a-a7333edad0d4'},\n 'system': {'warnings': []}}"
                    },
                    "execution_count": 16,
                    "metadata": {},
                    "output_type": "execute_result"
                }
            ],
            "source": "stored_model_details"
        },
        {
            "cell_type": "markdown",
            "metadata": {},
            "source": "<a id=\"summary_and_next_steps\"></a>\n# Summary and next steps\nYou successfully completed this notebook!\nYou learned how to use AutoAI pipeline definition to train the model.\nCheck out our [Online Documentation](https://www.ibm.com/cloud/watson-studio/autoai) for more samples, tutorials, documentation, how-tos, and blog posts."
        },
        {
            "cell_type": "markdown",
            "metadata": {},
            "source": "<a id=\"copyrights\"></a>\n### Copyrights\n\nLicensed Materials - Copyright \u00a9 2023 IBM. This notebook and its source code are released under the terms of the ILAN License. Use, duplication disclosure restricted by GSA ADP Schedule Contract with IBM Corp.\n\n**Note:** The auto-generated notebooks are subject to the International License Agreement for Non-Warranted Programs (or equivalent) and License Information document for Watson Studio Auto-generated Notebook (License Terms), such agreements located in the link below. Specifically, the Source Components and Sample Materials clause included in the License Information document for Watson Studio Auto-generated Notebook applies to the auto-generated notebooks.  \n\nBy downloading, copying, accessing, or otherwise using the materials, you agree to the <a href=\"http://www14.software.ibm.com/cgi-bin/weblap/lap.pl?li_formnum=L-AMCU-BYC7LF\">License Terms</a>\n\n___"
        }
    ],
    "metadata": {
        "kernelspec": {
            "display_name": "Python 3.10",
            "language": "python",
            "name": "python3"
        },
        "language_info": {
            "codemirror_mode": {
                "name": "ipython",
                "version": 3
            },
            "file_extension": ".py",
            "mimetype": "text/x-python",
            "name": "python",
            "nbconvert_exporter": "python",
            "pygments_lexer": "ipython3",
            "version": "3.10.9"
        }
    },
    "nbformat": 4,
    "nbformat_minor": 2
}